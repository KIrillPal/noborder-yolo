{
 "cells": [
  {
   "cell_type": "code",
   "execution_count": 1,
   "id": "8b4523a0",
   "metadata": {},
   "outputs": [],
   "source": [
    "CONFIG_PATH = '../../config.json'\n",
    "SPLIT = 'test'\n",
    "IOU_THRESHOLD = 0.7"
   ]
  },
  {
   "cell_type": "code",
   "execution_count": 2,
   "id": "e079e884",
   "metadata": {},
   "outputs": [],
   "source": [
    "# Load config\n",
    "import json\n",
    "import numpy as np\n",
    "from pathlib import Path"
   ]
  },
  {
   "cell_type": "markdown",
   "id": "da63dcc2",
   "metadata": {},
   "source": [
    "### Подготавливаем визуализацию"
   ]
  },
  {
   "cell_type": "code",
   "execution_count": 3,
   "id": "f9cabbbc",
   "metadata": {},
   "outputs": [],
   "source": [
    "# Create temporary directory for predictions\n",
    "pred_labels_dir = Path('runs/segment/predict/labels')\n",
    "pred_images_dir = Path('runs/segment/predict')"
   ]
  },
  {
   "cell_type": "code",
   "execution_count": 4,
   "id": "98c1befb",
   "metadata": {},
   "outputs": [],
   "source": [
    "with open(CONFIG_PATH, 'r') as f:\n",
    "    config = json.load(f)"
   ]
  },
  {
   "cell_type": "code",
   "execution_count": 5,
   "id": "de83eb9e",
   "metadata": {},
   "outputs": [],
   "source": [
    "from matplotlib import pyplot as plt"
   ]
  },
  {
   "cell_type": "markdown",
   "id": "f79ce021",
   "metadata": {},
   "source": [
    "## Разреженный тест"
   ]
  },
  {
   "cell_type": "code",
   "execution_count": 6,
   "id": "078f24a9",
   "metadata": {},
   "outputs": [],
   "source": [
    "import pickle\n",
    "with open('../../groups/gt_test_sparse.pkl', 'rb') as f:\n",
    "    gt_groups = pickle.load(f)\n",
    "with open('../../groups/pred_test_sparse.pkl', 'rb') as f:\n",
    "    pred_groups = pickle.load(f)"
   ]
  },
  {
   "cell_type": "code",
   "execution_count": 7,
   "id": "672a1120",
   "metadata": {},
   "outputs": [],
   "source": [
    "import sys\n",
    "sys.path.append('../../utils')\n",
    "sys.path.append('../..')"
   ]
  },
  {
   "cell_type": "code",
   "execution_count": 8,
   "id": "b518c861",
   "metadata": {},
   "outputs": [],
   "source": [
    "from interpolate.refine_markup_by_yolo import get_box\n",
    "import cv2\n",
    "import numpy as np\n",
    "from matplotlib import pyplot as plt\n",
    "from tqdm import tqdm"
   ]
  },
  {
   "cell_type": "code",
   "execution_count": 9,
   "id": "171c31c7",
   "metadata": {},
   "outputs": [],
   "source": [
    "def make_square_box(box, padding=10):\n",
    "    x1, y1, x2, y2 = box\n",
    "    width = x2 - x1\n",
    "    height = y2 - y1\n",
    "    \n",
    "    # Make square by taking larger dimension\n",
    "    size = max(width, height)\n",
    "    \n",
    "    # Calculate center\n",
    "    center_x = (x1 + x2) / 2\n",
    "    center_y = (y1 + y2) / 2\n",
    "    \n",
    "    # Calculate new box coordinates with padding\n",
    "    new_x1 = int(center_x - size/2 - padding)\n",
    "    new_y1 = int(center_y - size/2 - padding)\n",
    "    new_x2 = int(center_x + size/2 + padding)\n",
    "    new_y2 = int(center_y + size/2 + padding)\n",
    "    \n",
    "    return np.array([new_x1, new_y1, new_x2, new_y2])"
   ]
  },
  {
   "cell_type": "code",
   "execution_count": 10,
   "id": "3a33e511",
   "metadata": {},
   "outputs": [],
   "source": [
    "IMAGES_DIR = Path('../../data/sparse_test/imgs')\n",
    "PADDING = 0.2"
   ]
  },
  {
   "cell_type": "code",
   "execution_count": 11,
   "id": "42d4ac3b",
   "metadata": {},
   "outputs": [],
   "source": [
    "def extract_groups(groups, output_dir):\n",
    "    output_dir.mkdir(exist_ok=True)\n",
    "\n",
    "    for group_idx, group in tqdm(enumerate(groups), total=len(groups)):\n",
    "        group_dir = output_dir / str(group_idx)\n",
    "        group_dir.mkdir(exist_ok=True)\n",
    "        \n",
    "        for obj_idx, obj in enumerate(group):\n",
    "            box = get_box(obj['obj'])\n",
    "            box = np.round(box).astype(int)\n",
    "            p = round(max(box[2] - box[0], box[3] - box[1]) * PADDING)\n",
    "            \n",
    "            box = make_square_box(box, p)\n",
    "            \n",
    "            img_path = obj['img']\n",
    "            \n",
    "            img = cv2.imread(str(IMAGES_DIR / img_path.name))\n",
    "            \n",
    "            padded = cv2.copyMakeBorder(\n",
    "                img, \n",
    "                p, p, p, p, \n",
    "                cv2.BORDER_CONSTANT, \n",
    "                value=[0,0,0]\n",
    "            )\n",
    "            cropped = padded[\n",
    "                max(p+box[1], 0):\n",
    "                max(p+box[3], 0), \n",
    "                max(p+box[0], 0):\n",
    "                max(p+box[2], 0)\n",
    "            ]\n",
    "            if min(cropped.shape[:2]) < 5:\n",
    "                print(cropped.shape, p+box[1], p+box[3], p+box[0], p+box[2])\n",
    "            output_path = group_dir / f\"{obj_idx}.png\"\n",
    "            cv2.imwrite(str(output_path), cropped)"
   ]
  },
  {
   "cell_type": "code",
   "execution_count": 12,
   "id": "795fef03",
   "metadata": {},
   "outputs": [
    {
     "name": "stderr",
     "output_type": "stream",
     "text": [
      "100%|██████████| 792/792 [04:45<00:00,  2.77it/s]\n"
     ]
    }
   ],
   "source": [
    "output_dir = Path('../../data/sparse_test/gt_groups')\n",
    "extract_groups(gt_groups, output_dir)"
   ]
  },
  {
   "cell_type": "code",
   "execution_count": 13,
   "id": "6bd1bb14",
   "metadata": {},
   "outputs": [
    {
     "name": "stderr",
     "output_type": "stream",
     "text": [
      "100%|██████████| 879/879 [04:04<00:00,  3.60it/s]\n"
     ]
    }
   ],
   "source": [
    "output_dir = Path('../../data/sparse_test/pred_groups')\n",
    "extract_groups(pred_groups, output_dir)"
   ]
  }
 ],
 "metadata": {
  "kernelspec": {
   "display_name": "Delta",
   "language": "python",
   "name": "delta"
  },
  "language_info": {
   "codemirror_mode": {
    "name": "ipython",
    "version": 3
   },
   "file_extension": ".py",
   "mimetype": "text/x-python",
   "name": "python",
   "nbconvert_exporter": "python",
   "pygments_lexer": "ipython3",
   "version": "3.10.12"
  }
 },
 "nbformat": 4,
 "nbformat_minor": 5
}
