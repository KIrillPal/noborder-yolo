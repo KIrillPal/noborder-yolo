{
 "cells": [
  {
   "cell_type": "code",
   "execution_count": 1,
   "id": "8b4523a0",
   "metadata": {},
   "outputs": [],
   "source": [
    "CONFIG_PATH = '../../config.json'\n",
    "SPLIT = 'test'\n",
    "IOU_THRESHOLD = 0.7"
   ]
  },
  {
   "cell_type": "code",
   "execution_count": 2,
   "id": "e079e884",
   "metadata": {},
   "outputs": [],
   "source": [
    "# Load config\n",
    "import json\n",
    "import numpy as np\n",
    "from pathlib import Path"
   ]
  },
  {
   "cell_type": "markdown",
   "id": "da63dcc2",
   "metadata": {},
   "source": [
    "### Подготавливаем визуализацию"
   ]
  },
  {
   "cell_type": "code",
   "execution_count": 3,
   "id": "f9cabbbc",
   "metadata": {},
   "outputs": [],
   "source": [
    "# Create temporary directory for predictions\n",
    "pred_labels_dir = Path('runs/segment/predict/labels')\n",
    "pred_images_dir = Path('runs/segment/predict')"
   ]
  },
  {
   "cell_type": "code",
   "execution_count": 4,
   "id": "98c1befb",
   "metadata": {},
   "outputs": [],
   "source": [
    "with open(CONFIG_PATH, 'r') as f:\n",
    "    config = json.load(f)"
   ]
  },
  {
   "cell_type": "code",
   "execution_count": 5,
   "id": "de83eb9e",
   "metadata": {},
   "outputs": [],
   "source": [
    "from matplotlib import pyplot as plt"
   ]
  },
  {
   "cell_type": "markdown",
   "id": "f79ce021",
   "metadata": {},
   "source": [
    "## Train-val данные"
   ]
  },
  {
   "cell_type": "code",
   "execution_count": 6,
   "id": "078f24a9",
   "metadata": {},
   "outputs": [],
   "source": [
    "import pickle\n",
    "with open('../../groups/gt_groups_per_dataset_trainval.pkl', 'rb') as f:\n",
    "    gt_groups_per_dataset = pickle.load(f)\n",
    "with open('../../groups/pred_groups_per_dataset_trainval.pkl', 'rb') as f:\n",
    "    pred_groups_per_dataset = pickle.load(f)"
   ]
  },
  {
   "cell_type": "code",
   "execution_count": 7,
   "id": "bfc926e7",
   "metadata": {},
   "outputs": [],
   "source": [
    "gt_groups = []\n",
    "pred_groups = []\n",
    "for gt_group in gt_groups_per_dataset:\n",
    "    gt_groups += gt_group\n",
    "for pred_group in pred_groups_per_dataset:\n",
    "    pred_groups += pred_group"
   ]
  },
  {
   "cell_type": "code",
   "execution_count": 8,
   "id": "672a1120",
   "metadata": {},
   "outputs": [],
   "source": [
    "import sys\n",
    "sys.path.append('../../utils')\n",
    "sys.path.append('../..')"
   ]
  },
  {
   "cell_type": "code",
   "execution_count": 9,
   "id": "b518c861",
   "metadata": {},
   "outputs": [],
   "source": [
    "from interpolate.refine_markup_by_yolo import get_box\n",
    "import cv2\n",
    "import numpy as np\n",
    "from matplotlib import pyplot as plt\n",
    "from tqdm import tqdm"
   ]
  },
  {
   "cell_type": "code",
   "execution_count": 10,
   "id": "171c31c7",
   "metadata": {},
   "outputs": [],
   "source": [
    "def make_square_box(box, padding=10):\n",
    "    x1, y1, x2, y2 = box\n",
    "    width = x2 - x1\n",
    "    height = y2 - y1\n",
    "    \n",
    "    # Make square by taking larger dimension\n",
    "    size = max(width, height)\n",
    "    \n",
    "    # Calculate center\n",
    "    center_x = (x1 + x2) / 2\n",
    "    center_y = (y1 + y2) / 2\n",
    "    \n",
    "    # Calculate new box coordinates with padding\n",
    "    new_x1 = int(center_x - size/2 - padding)\n",
    "    new_y1 = int(center_y - size/2 - padding)\n",
    "    new_x2 = int(center_x + size/2 + padding)\n",
    "    new_y2 = int(center_y + size/2 + padding)\n",
    "    \n",
    "    return np.array([new_x1, new_y1, new_x2, new_y2])"
   ]
  },
  {
   "cell_type": "code",
   "execution_count": 11,
   "id": "3a33e511",
   "metadata": {},
   "outputs": [],
   "source": [
    "INCLUDED_DATASETS = config['interpolated']['datasets']['train']\n",
    "PADDING = 0.2"
   ]
  },
  {
   "cell_type": "code",
   "execution_count": 12,
   "id": "350baa41",
   "metadata": {},
   "outputs": [
    {
     "name": "stderr",
     "output_type": "stream",
     "text": [
      "100%|██████████| 16/16 [00:00<00:00, 18.07it/s]\n"
     ]
    }
   ],
   "source": [
    "CACHE = {}\n",
    "for dataset in tqdm(INCLUDED_DATASETS):\n",
    "    img_dir = Path(dataset) / 'imgs'\n",
    "    for i, p in enumerate(sorted(list(img_dir.iterdir()))):\n",
    "        CACHE[p.stem] = (p, i)\n",
    "\n",
    "def find_image_by_name(image_name : str):\n",
    "    return CACHE[image_name]"
   ]
  },
  {
   "cell_type": "code",
   "execution_count": null,
   "id": "faa2bc6f",
   "metadata": {},
   "outputs": [],
   "source": [
    "NO_OBJECT = -1\n",
    "def get_class(obj : dict):\n",
    "    obj_cls = NO_OBJECT\n",
    "    if obj['is_matched']:\n",
    "        obj_cls = int(obj['obj']['cls'])\n",
    "    elif len(obj['possible_cls']) > 0:\n",
    "        obj_cls = next(iter(obj['possible_cls']))\n",
    "    return obj_cls"
   ]
  },
  {
   "cell_type": "code",
   "execution_count": 14,
   "id": "42d4ac3b",
   "metadata": {},
   "outputs": [],
   "source": [
    "import yaml\n",
    "\n",
    "def extract_groups(groups, output_dir):\n",
    "    output_dir.mkdir(exist_ok=True)\n",
    "\n",
    "    for group_idx, group in tqdm(enumerate(groups), total=len(groups)):\n",
    "        group_dir = output_dir / str(group_idx)\n",
    "        group_dir.mkdir(exist_ok=True)\n",
    "        \n",
    "        meta_path = group_dir / 'meta.yaml'\n",
    "        group_path = group_dir / 'group.pkl'\n",
    "        meta = {}\n",
    "\n",
    "        FIRST_IDX = -1\n",
    "        for obj_idx, obj in enumerate(group):\n",
    "            box = get_box(obj['obj'])\n",
    "            box = np.round(box).astype(int)\n",
    "            p = round(max(box[2] - box[0], box[3] - box[1]) * PADDING)\n",
    "            \n",
    "            box = make_square_box(box, p)\n",
    "            \n",
    "            img_path = obj['img']\n",
    "            obj_cls = get_class(obj)\n",
    "            \n",
    "            real_img_path, img_idx = find_image_by_name(img_path.stem)\n",
    "            img = cv2.imread(str(real_img_path))\n",
    "            \n",
    "            padded = cv2.copyMakeBorder(\n",
    "                img, \n",
    "                p, p, p, p, \n",
    "                cv2.BORDER_CONSTANT, \n",
    "                value=[0,0,0]\n",
    "            )\n",
    "            cropped = padded[\n",
    "                max(p+box[1], 0):\n",
    "                max(p+box[3], 0), \n",
    "                max(p+box[0], 0):\n",
    "                max(p+box[2], 0)\n",
    "            ]\n",
    "            if min(cropped.shape[:2]) < 5:\n",
    "                print(cropped.shape, p+box[1], p+box[3], p+box[0], p+box[2])\n",
    "            \n",
    "            if FIRST_IDX == -1:\n",
    "                FIRST_IDX = img_idx\n",
    "\n",
    "            img_filename = f\"{img_idx - FIRST_IDX}_{obj_cls}.png\"\n",
    "            output_path = group_dir / img_filename\n",
    "            cv2.imwrite(str(output_path), cropped)\n",
    "            \n",
    "            meta[img_filename] = str(real_img_path)\n",
    "\n",
    "        with open(meta_path, 'w') as f:\n",
    "            yaml.dump(meta, f)\n",
    "        with open(group_path, 'wb') as f:\n",
    "            pickle.dump(group, f)"
   ]
  },
  {
   "cell_type": "markdown",
   "id": "960993af",
   "metadata": {},
   "source": [
    "## Разделение на трейн и валидацию"
   ]
  },
  {
   "cell_type": "code",
   "execution_count": 15,
   "id": "1a71ede4",
   "metadata": {},
   "outputs": [
    {
     "name": "stdout",
     "output_type": "stream",
     "text": [
      "Train: 10479\n",
      "Val: 1850\n"
     ]
    }
   ],
   "source": [
    "from sklearn.model_selection import train_test_split\n",
    "train_groups, val_groups = train_test_split(pred_groups, test_size=0.15, random_state=42)\n",
    "print(\"Train:\", len(train_groups))\n",
    "print(\"Val:\", len(val_groups))"
   ]
  },
  {
   "cell_type": "markdown",
   "id": "95969744",
   "metadata": {},
   "source": [
    "## Создание датасета"
   ]
  },
  {
   "cell_type": "code",
   "execution_count": 16,
   "id": "795fef03",
   "metadata": {},
   "outputs": [
    {
     "name": "stderr",
     "output_type": "stream",
     "text": [
      "  0%|          | 43/10479 [00:16<41:24,  4.20it/s]  "
     ]
    },
    {
     "name": "stdout",
     "output_type": "stream",
     "text": [
      "Found 0\n",
      "Found 0\n"
     ]
    },
    {
     "name": "stderr",
     "output_type": "stream",
     "text": [
      "  1%|          | 53/10479 [00:22<1:56:23,  1.49it/s]"
     ]
    },
    {
     "name": "stdout",
     "output_type": "stream",
     "text": [
      "Found 0\n"
     ]
    },
    {
     "name": "stderr",
     "output_type": "stream",
     "text": [
      "  1%|          | 71/10479 [00:28<55:31,  3.12it/s]  "
     ]
    },
    {
     "name": "stdout",
     "output_type": "stream",
     "text": [
      "Found 0\n"
     ]
    },
    {
     "name": "stderr",
     "output_type": "stream",
     "text": [
      "  1%|          | 77/10479 [00:29<1:06:59,  2.59it/s]\n"
     ]
    },
    {
     "ename": "KeyboardInterrupt",
     "evalue": "",
     "output_type": "error",
     "traceback": [
      "\u001b[0;31m---------------------------------------------------------------------------\u001b[0m",
      "\u001b[0;31mKeyboardInterrupt\u001b[0m                         Traceback (most recent call last)",
      "Cell \u001b[0;32mIn[16], line 2\u001b[0m\n\u001b[1;32m      1\u001b[0m output_dir \u001b[38;5;241m=\u001b[39m Path(\u001b[38;5;124m'\u001b[39m\u001b[38;5;124m../../data/train\u001b[39m\u001b[38;5;124m'\u001b[39m)\n\u001b[0;32m----> 2\u001b[0m \u001b[43mextract_groups\u001b[49m\u001b[43m(\u001b[49m\u001b[43mtrain_groups\u001b[49m\u001b[43m,\u001b[49m\u001b[43m \u001b[49m\u001b[43moutput_dir\u001b[49m\u001b[43m)\u001b[49m\n",
      "Cell \u001b[0;32mIn[14], line 26\u001b[0m, in \u001b[0;36mextract_groups\u001b[0;34m(groups, output_dir)\u001b[0m\n\u001b[1;32m     23\u001b[0m obj_cls \u001b[38;5;241m=\u001b[39m get_class(obj)\n\u001b[1;32m     25\u001b[0m real_img_path, img_idx \u001b[38;5;241m=\u001b[39m find_image_by_name(img_path\u001b[38;5;241m.\u001b[39mstem)\n\u001b[0;32m---> 26\u001b[0m img \u001b[38;5;241m=\u001b[39m \u001b[43mcv2\u001b[49m\u001b[38;5;241;43m.\u001b[39;49m\u001b[43mimread\u001b[49m\u001b[43m(\u001b[49m\u001b[38;5;28;43mstr\u001b[39;49m\u001b[43m(\u001b[49m\u001b[43mreal_img_path\u001b[49m\u001b[43m)\u001b[49m\u001b[43m)\u001b[49m\n\u001b[1;32m     28\u001b[0m padded \u001b[38;5;241m=\u001b[39m cv2\u001b[38;5;241m.\u001b[39mcopyMakeBorder(\n\u001b[1;32m     29\u001b[0m     img, \n\u001b[1;32m     30\u001b[0m     p, p, p, p, \n\u001b[1;32m     31\u001b[0m     cv2\u001b[38;5;241m.\u001b[39mBORDER_CONSTANT, \n\u001b[1;32m     32\u001b[0m     value\u001b[38;5;241m=\u001b[39m[\u001b[38;5;241m0\u001b[39m,\u001b[38;5;241m0\u001b[39m,\u001b[38;5;241m0\u001b[39m]\n\u001b[1;32m     33\u001b[0m )\n\u001b[1;32m     34\u001b[0m cropped \u001b[38;5;241m=\u001b[39m padded[\n\u001b[1;32m     35\u001b[0m     \u001b[38;5;28mmax\u001b[39m(p\u001b[38;5;241m+\u001b[39mbox[\u001b[38;5;241m1\u001b[39m], \u001b[38;5;241m0\u001b[39m):\n\u001b[1;32m     36\u001b[0m     \u001b[38;5;28mmax\u001b[39m(p\u001b[38;5;241m+\u001b[39mbox[\u001b[38;5;241m3\u001b[39m], \u001b[38;5;241m0\u001b[39m), \n\u001b[1;32m     37\u001b[0m     \u001b[38;5;28mmax\u001b[39m(p\u001b[38;5;241m+\u001b[39mbox[\u001b[38;5;241m0\u001b[39m], \u001b[38;5;241m0\u001b[39m):\n\u001b[1;32m     38\u001b[0m     \u001b[38;5;28mmax\u001b[39m(p\u001b[38;5;241m+\u001b[39mbox[\u001b[38;5;241m2\u001b[39m], \u001b[38;5;241m0\u001b[39m)\n\u001b[1;32m     39\u001b[0m ]\n",
      "\u001b[0;31mKeyboardInterrupt\u001b[0m: "
     ]
    }
   ],
   "source": [
    "output_dir = Path('../../data/train')\n",
    "extract_groups(train_groups, output_dir)"
   ]
  },
  {
   "cell_type": "code",
   "execution_count": null,
   "id": "6bd1bb14",
   "metadata": {},
   "outputs": [
    {
     "name": "stderr",
     "output_type": "stream",
     "text": [
      "  2%|▏         | 33/1850 [00:13<11:24,  2.65it/s]"
     ]
    },
    {
     "name": "stdout",
     "output_type": "stream",
     "text": [
      "Found 1\n"
     ]
    },
    {
     "name": "stderr",
     "output_type": "stream",
     "text": [
      "  2%|▏         | 44/1850 [00:19<13:28,  2.23it/s]\n"
     ]
    },
    {
     "ename": "KeyboardInterrupt",
     "evalue": "",
     "output_type": "error",
     "traceback": [
      "\u001b[0;31m---------------------------------------------------------------------------\u001b[0m",
      "\u001b[0;31mKeyboardInterrupt\u001b[0m                         Traceback (most recent call last)",
      "Cell \u001b[0;32mIn[17], line 2\u001b[0m\n\u001b[1;32m      1\u001b[0m output_dir \u001b[38;5;241m=\u001b[39m Path(\u001b[38;5;124m'\u001b[39m\u001b[38;5;124m../../data/val\u001b[39m\u001b[38;5;124m'\u001b[39m)\n\u001b[0;32m----> 2\u001b[0m \u001b[43mextract_groups\u001b[49m\u001b[43m(\u001b[49m\u001b[43mval_groups\u001b[49m\u001b[43m,\u001b[49m\u001b[43m \u001b[49m\u001b[43moutput_dir\u001b[49m\u001b[43m)\u001b[49m\n",
      "Cell \u001b[0;32mIn[14], line 20\u001b[0m, in \u001b[0;36mextract_groups\u001b[0;34m(groups, output_dir)\u001b[0m\n\u001b[1;32m     17\u001b[0m obj_cls \u001b[38;5;241m=\u001b[39m get_class(obj)\n\u001b[1;32m     19\u001b[0m real_img_path, img_idx \u001b[38;5;241m=\u001b[39m find_image_by_name(img_path\u001b[38;5;241m.\u001b[39mstem)\n\u001b[0;32m---> 20\u001b[0m img \u001b[38;5;241m=\u001b[39m \u001b[43mcv2\u001b[49m\u001b[38;5;241;43m.\u001b[39;49m\u001b[43mimread\u001b[49m\u001b[43m(\u001b[49m\u001b[38;5;28;43mstr\u001b[39;49m\u001b[43m(\u001b[49m\u001b[43mreal_img_path\u001b[49m\u001b[43m)\u001b[49m\u001b[43m)\u001b[49m\n\u001b[1;32m     22\u001b[0m padded \u001b[38;5;241m=\u001b[39m cv2\u001b[38;5;241m.\u001b[39mcopyMakeBorder(\n\u001b[1;32m     23\u001b[0m     img, \n\u001b[1;32m     24\u001b[0m     p, p, p, p, \n\u001b[1;32m     25\u001b[0m     cv2\u001b[38;5;241m.\u001b[39mBORDER_CONSTANT, \n\u001b[1;32m     26\u001b[0m     value\u001b[38;5;241m=\u001b[39m[\u001b[38;5;241m0\u001b[39m,\u001b[38;5;241m0\u001b[39m,\u001b[38;5;241m0\u001b[39m]\n\u001b[1;32m     27\u001b[0m )\n\u001b[1;32m     28\u001b[0m cropped \u001b[38;5;241m=\u001b[39m padded[\n\u001b[1;32m     29\u001b[0m     \u001b[38;5;28mmax\u001b[39m(p\u001b[38;5;241m+\u001b[39mbox[\u001b[38;5;241m1\u001b[39m], \u001b[38;5;241m0\u001b[39m):\n\u001b[1;32m     30\u001b[0m     \u001b[38;5;28mmax\u001b[39m(p\u001b[38;5;241m+\u001b[39mbox[\u001b[38;5;241m3\u001b[39m], \u001b[38;5;241m0\u001b[39m), \n\u001b[1;32m     31\u001b[0m     \u001b[38;5;28mmax\u001b[39m(p\u001b[38;5;241m+\u001b[39mbox[\u001b[38;5;241m0\u001b[39m], \u001b[38;5;241m0\u001b[39m):\n\u001b[1;32m     32\u001b[0m     \u001b[38;5;28mmax\u001b[39m(p\u001b[38;5;241m+\u001b[39mbox[\u001b[38;5;241m2\u001b[39m], \u001b[38;5;241m0\u001b[39m)\n\u001b[1;32m     33\u001b[0m ]\n",
      "\u001b[0;31mKeyboardInterrupt\u001b[0m: "
     ]
    }
   ],
   "source": [
    "output_dir = Path('../../data/val')\n",
    "extract_groups(val_groups, output_dir)"
   ]
  },
  {
   "cell_type": "code",
   "execution_count": null,
   "id": "fc1102a9",
   "metadata": {},
   "outputs": [],
   "source": []
  }
 ],
 "metadata": {
  "kernelspec": {
   "display_name": "Delta",
   "language": "python",
   "name": "delta"
  },
  "language_info": {
   "codemirror_mode": {
    "name": "ipython",
    "version": 3
   },
   "file_extension": ".py",
   "mimetype": "text/x-python",
   "name": "python",
   "nbconvert_exporter": "python",
   "pygments_lexer": "ipython3",
   "version": "3.10.12"
  }
 },
 "nbformat": 4,
 "nbformat_minor": 5
}
