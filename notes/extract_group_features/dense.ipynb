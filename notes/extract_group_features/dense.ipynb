{
 "cells": [
  {
   "cell_type": "code",
   "execution_count": 1,
   "id": "8b4523a0",
   "metadata": {},
   "outputs": [],
   "source": [
    "CONFIG_PATH = '../../config.json'\n",
    "SPLIT = 'test'\n",
    "IOU_THRESHOLD = 0.7"
   ]
  },
  {
   "cell_type": "code",
   "execution_count": 2,
   "id": "e079e884",
   "metadata": {},
   "outputs": [],
   "source": [
    "# Load config\n",
    "import json\n",
    "import numpy as np\n",
    "from pathlib import Path"
   ]
  },
  {
   "cell_type": "markdown",
   "id": "da63dcc2",
   "metadata": {},
   "source": [
    "### Подготавливаем визуализацию"
   ]
  },
  {
   "cell_type": "code",
   "execution_count": 3,
   "id": "f9cabbbc",
   "metadata": {},
   "outputs": [],
   "source": [
    "# Create temporary directory for predictions\n",
    "pred_labels_dir = Path('runs/segment/predict/labels')\n",
    "pred_images_dir = Path('runs/segment/predict')"
   ]
  },
  {
   "cell_type": "code",
   "execution_count": 4,
   "id": "98c1befb",
   "metadata": {},
   "outputs": [],
   "source": [
    "with open(CONFIG_PATH, 'r') as f:\n",
    "    config = json.load(f)"
   ]
  },
  {
   "cell_type": "code",
   "execution_count": 5,
   "id": "de83eb9e",
   "metadata": {},
   "outputs": [],
   "source": [
    "from matplotlib import pyplot as plt"
   ]
  },
  {
   "cell_type": "markdown",
   "id": "f79ce021",
   "metadata": {},
   "source": [
    "## Плотный тест"
   ]
  },
  {
   "cell_type": "code",
   "execution_count": 20,
   "id": "078f24a9",
   "metadata": {},
   "outputs": [],
   "source": [
    "import pickle\n",
    "with open('/alpha/projects/wastie/code/kondrashov/delta/notes/gt_24_12_dense_c06.pkl', 'rb') as f:\n",
    "    gt_groups = pickle.load(f)\n",
    "with open('/alpha/projects/wastie/code/kondrashov/delta/notes/pred_24_12_dense_c06.pkl', 'rb') as f:\n",
    "    pred_groups = pickle.load(f)"
   ]
  },
  {
   "cell_type": "code",
   "execution_count": 21,
   "id": "672a1120",
   "metadata": {},
   "outputs": [],
   "source": [
    "import sys\n",
    "sys.path.append('../../utils')\n",
    "sys.path.append('../..')"
   ]
  },
  {
   "cell_type": "code",
   "execution_count": 22,
   "id": "b518c861",
   "metadata": {},
   "outputs": [],
   "source": [
    "from interpolate.refine_markup_by_yolo import get_box\n",
    "import cv2\n",
    "import numpy as np\n",
    "from matplotlib import pyplot as plt\n",
    "from tqdm import tqdm"
   ]
  },
  {
   "cell_type": "code",
   "execution_count": 24,
   "id": "42d4ac3b",
   "metadata": {},
   "outputs": [
    {
     "name": "stderr",
     "output_type": "stream",
     "text": [
      "  0%|          | 0/1368 [00:00<?, ?it/s]\n"
     ]
    },
    {
     "ename": "KeyError",
     "evalue": "'conf'",
     "output_type": "error",
     "traceback": [
      "\u001b[0;31m---------------------------------------------------------------------------\u001b[0m",
      "\u001b[0;31mKeyError\u001b[0m                                  Traceback (most recent call last)",
      "Cell \u001b[0;32mIn[24], line 3\u001b[0m\n\u001b[1;32m      1\u001b[0m \u001b[38;5;28;01mfor\u001b[39;00m group_idx, group \u001b[38;5;129;01min\u001b[39;00m tqdm(\u001b[38;5;28menumerate\u001b[39m(pred_groups), total\u001b[38;5;241m=\u001b[39m\u001b[38;5;28mlen\u001b[39m(pred_groups)):\n\u001b[1;32m      2\u001b[0m     boxes \u001b[38;5;241m=\u001b[39m [get_box(obj[\u001b[38;5;124m'\u001b[39m\u001b[38;5;124mobj\u001b[39m\u001b[38;5;124m'\u001b[39m]) \u001b[38;5;28;01mfor\u001b[39;00m obj \u001b[38;5;129;01min\u001b[39;00m group]\n\u001b[0;32m----> 3\u001b[0m     confs \u001b[38;5;241m=\u001b[39m [obj[\u001b[38;5;124m'\u001b[39m\u001b[38;5;124mconf\u001b[39m\u001b[38;5;124m'\u001b[39m] \u001b[38;5;28;01mfor\u001b[39;00m obj \u001b[38;5;129;01min\u001b[39;00m group]\n\u001b[1;32m      5\u001b[0m     \u001b[38;5;28mprint\u001b[39m(boxes)\n\u001b[1;32m      6\u001b[0m     \u001b[38;5;28mprint\u001b[39m(confs)\n",
      "Cell \u001b[0;32mIn[24], line 3\u001b[0m, in \u001b[0;36m<listcomp>\u001b[0;34m(.0)\u001b[0m\n\u001b[1;32m      1\u001b[0m \u001b[38;5;28;01mfor\u001b[39;00m group_idx, group \u001b[38;5;129;01min\u001b[39;00m tqdm(\u001b[38;5;28menumerate\u001b[39m(pred_groups), total\u001b[38;5;241m=\u001b[39m\u001b[38;5;28mlen\u001b[39m(pred_groups)):\n\u001b[1;32m      2\u001b[0m     boxes \u001b[38;5;241m=\u001b[39m [get_box(obj[\u001b[38;5;124m'\u001b[39m\u001b[38;5;124mobj\u001b[39m\u001b[38;5;124m'\u001b[39m]) \u001b[38;5;28;01mfor\u001b[39;00m obj \u001b[38;5;129;01min\u001b[39;00m group]\n\u001b[0;32m----> 3\u001b[0m     confs \u001b[38;5;241m=\u001b[39m [\u001b[43mobj\u001b[49m\u001b[43m[\u001b[49m\u001b[38;5;124;43m'\u001b[39;49m\u001b[38;5;124;43mconf\u001b[39;49m\u001b[38;5;124;43m'\u001b[39;49m\u001b[43m]\u001b[49m \u001b[38;5;28;01mfor\u001b[39;00m obj \u001b[38;5;129;01min\u001b[39;00m group]\n\u001b[1;32m      5\u001b[0m     \u001b[38;5;28mprint\u001b[39m(boxes)\n\u001b[1;32m      6\u001b[0m     \u001b[38;5;28mprint\u001b[39m(confs)\n",
      "\u001b[0;31mKeyError\u001b[0m: 'conf'"
     ]
    }
   ],
   "source": [
    "for group_idx, group in tqdm(enumerate(pred_groups), total=len(pred_groups)):\n",
    "    boxes = [get_box(obj['obj']) for obj in group]\n",
    "    confs = [obj['conf'] for obj in group]\n",
    "\n",
    "    print(boxes)\n",
    "    print(confs)"
   ]
  },
  {
   "cell_type": "code",
   "execution_count": 11,
   "id": "795fef03",
   "metadata": {},
   "outputs": [
    {
     "name": "stdout",
     "output_type": "stream",
     "text": [
      "4 5 7 10 30 40 11 50 3 7 8 10 15\n",
      "14.360943088478994\n",
      "206.23668639053255\n",
      "14.947343473777437\n",
      "223.42307692307693\n",
      "7 10\n",
      "6.0 10.0 22.5\n"
     ]
    }
   ],
   "source": [
    "import statistics as st\n",
    "ar = [4, 5, 7, 10, 30, 40, 11, 50, 3, 7, 8, 10, 15]\n",
    "print(*ar)\n",
    "print(st.pstdev(ar))\n",
    "print(st.pvariance(ar))\n",
    "print(st.stdev(ar))\n",
    "print(st.variance(ar))\n",
    "print(*st.multimode(ar))\n",
    "print(*st.quantiles(ar))\n",
    "\n"
   ]
  },
  {
   "cell_type": "code",
   "execution_count": null,
   "id": "9788915c",
   "metadata": {},
   "outputs": [],
   "source": []
  }
 ],
 "metadata": {
  "kernelspec": {
   "display_name": "Delta",
   "language": "python",
   "name": "delta"
  },
  "language_info": {
   "codemirror_mode": {
    "name": "ipython",
    "version": 3
   },
   "file_extension": ".py",
   "mimetype": "text/x-python",
   "name": "python",
   "nbconvert_exporter": "python",
   "pygments_lexer": "ipython3",
   "version": "3.10.12"
  }
 },
 "nbformat": 4,
 "nbformat_minor": 5
}
