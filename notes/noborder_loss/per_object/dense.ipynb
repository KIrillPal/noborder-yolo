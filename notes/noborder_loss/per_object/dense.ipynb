{
 "cells": [
  {
   "cell_type": "code",
   "execution_count": 1,
   "metadata": {},
   "outputs": [],
   "source": [
    "CONFIG_PATH = '../../../config.json'\n",
    "SPLIT = 'test'\n",
    "IOU_THRESHOLD = 0.7"
   ]
  },
  {
   "cell_type": "code",
   "execution_count": 2,
   "metadata": {},
   "outputs": [],
   "source": [
    "# Load config\n",
    "import json\n",
    "import numpy as np\n",
    "from pathlib import Path"
   ]
  },
  {
   "cell_type": "markdown",
   "metadata": {},
   "source": [
    "### Подготавливаем визуализацию"
   ]
  },
  {
   "cell_type": "code",
   "execution_count": 3,
   "metadata": {},
   "outputs": [],
   "source": [
    "# Create temporary directory for predictions\n",
    "pred_labels_dir = Path('runs/segment/predict/labels')\n",
    "pred_images_dir = Path('runs/segment/predict')"
   ]
  },
  {
   "cell_type": "code",
   "execution_count": 4,
   "metadata": {},
   "outputs": [],
   "source": [
    "with open(CONFIG_PATH, 'r') as f:\n",
    "    config = json.load(f)"
   ]
  },
  {
   "cell_type": "code",
   "execution_count": 5,
   "metadata": {},
   "outputs": [],
   "source": [
    "from matplotlib import pyplot as plt\n",
    "import numpy as np"
   ]
  },
  {
   "cell_type": "code",
   "execution_count": 6,
   "metadata": {},
   "outputs": [],
   "source": [
    "def group_len(g, border=True):\n",
    "    return len([1 for m in g if border or not m['is_border']])\n",
    "def group_matches(g, border=True):\n",
    "    return sum(m['is_matched'] for m in g if border or not m['is_border'])\n",
    "def calculate_integrated_precision(pred_groups, int_thr, border=True):\n",
    "    matches = len([1 for g in pred_groups if group_matches(g, border) > 0 and group_len(g, border) >= int_thr])\n",
    "    total = len([1 for g in pred_groups if group_len(g, border) >= int_thr])\n",
    "    return matches / total\n",
    "\n",
    "def calculate_integrated_recall(gt_groups, int_thr, border=True):\n",
    "    matches = len([1 for g in gt_groups if group_matches(g, border) >= int_thr])\n",
    "    total = len(gt_groups)\n",
    "    return matches / total"
   ]
  },
  {
   "cell_type": "code",
   "execution_count": 7,
   "metadata": {},
   "outputs": [],
   "source": [
    "%matplotlib inline\n",
    "import matplotlib.pyplot as plt\n",
    "import numpy as np\n",
    "from scipy.ndimage import gaussian_filter\n",
    "\n",
    "def plot_match_probability(groupset, title):\n",
    "    # Collect area shares and match status\n",
    "    area_shares = []\n",
    "    is_matched = []\n",
    "    for g in groupset:\n",
    "        for instance in g:\n",
    "            area_shares.append(instance['area_share'])\n",
    "            is_matched.append(instance['is_matched'])\n",
    "\n",
    "    # Convert to numpy arrays\n",
    "    area_shares = np.array(area_shares)\n",
    "    is_matched = np.array(is_matched)\n",
    "\n",
    "    # Create bins and calculate probabilities\n",
    "    bins = np.linspace(area_shares.min(), area_shares.max(), 16)\n",
    "    bin_indices = np.digitize(area_shares, bins) - 1\n",
    "    probabilities = []\n",
    "    bin_centers = []\n",
    "\n",
    "    for i in range(len(bins)-1):\n",
    "        mask = bin_indices == i\n",
    "        if np.sum(mask) > 0:\n",
    "            prob = np.mean(is_matched[mask])\n",
    "            probabilities.append(prob)\n",
    "            bin_centers.append((bins[i] + bins[i+1]) / 2)\n",
    "\n",
    "    # Apply Gaussian smoothing\n",
    "    probabilities = np.array(probabilities)\n",
    "    smoothed_probabilities = gaussian_filter(probabilities, sigma=2)\n",
    "\n",
    "    # Plot probability distribution\n",
    "    plt.plot(bin_centers, probabilities, 'o', alpha=0.3, label='Raw data')\n",
    "    plt.plot(bin_centers, smoothed_probabilities, '-', label='Smoothed')\n",
    "    plt.ylim(0, 1)\n",
    "    plt.xlabel('Area Share')\n",
    "    plt.ylabel('Probability of Match')\n",
    "    plt.title(f'Probability of Match vs Area Share - {title}')\n",
    "    plt.grid(True)\n",
    "    plt.legend()\n"
   ]
  },
  {
   "cell_type": "code",
   "execution_count": 8,
   "metadata": {},
   "outputs": [],
   "source": [
    "def plot_area_distribution(gt_groups, pred_groups, config):\n",
    "    # Plot area distribution histograms\n",
    "    plt.figure(figsize=(15, 6))\n",
    "\n",
    "    # Ground Truth histogram\n",
    "    plt.subplot(1, 2, 1)\n",
    "    gt_areas = [instance['area'] / (config['imgsz'] * config['imgsz']) \n",
    "                for group in gt_groups \n",
    "                for instance in group]\n",
    "    plt.hist(gt_areas, bins=50, alpha=0.7)\n",
    "    plt.xlabel('Area Share')\n",
    "    plt.ylabel('Count')\n",
    "    plt.title('Area Distribution - Ground Truth')\n",
    "    plt.grid(True)\n",
    "\n",
    "    # Predictions histogram\n",
    "    plt.subplot(1, 2, 2)\n",
    "    pred_areas = [instance['area'] / (config['imgsz'] * config['imgsz']) \n",
    "                for group in pred_groups \n",
    "                for instance in group]\n",
    "    plt.hist(pred_areas, bins=50, alpha=0.7)\n",
    "    plt.xlabel('Area Share')\n",
    "    plt.ylabel('Count')\n",
    "    plt.title('Area Distribution - Predictions')\n",
    "    plt.grid(True)\n",
    "\n",
    "    plt.tight_layout()\n",
    "    plt.show()\n"
   ]
  },
  {
   "cell_type": "code",
   "execution_count": 9,
   "metadata": {},
   "outputs": [],
   "source": [
    "from scipy import stats\n",
    "\n",
    "def get_correlation_data(groupset):\n",
    "    area_shares = []\n",
    "    is_matched = []\n",
    "    for g in groupset:\n",
    "        for instance in g:\n",
    "            area_shares.append(instance['area_share'])\n",
    "            is_matched.append(instance['is_matched'])\n",
    "    return np.array(area_shares), np.array(is_matched)\n",
    "\n",
    "def calculate_pcorr(gt_groups, pred_groups):\n",
    "    # Get data for GT and Pred\n",
    "    gt_areas, gt_matched = get_correlation_data(gt_groups)\n",
    "    pred_areas, pred_matched = get_correlation_data(pred_groups)\n",
    "\n",
    "    # Combine data for total\n",
    "    total_areas = np.concatenate([gt_areas, pred_areas])\n",
    "    total_matched = np.concatenate([gt_matched, pred_matched])\n",
    "\n",
    "    # Calculate correlations and p-values\n",
    "    gt_corr, gt_pval = stats.pearsonr(gt_areas, gt_matched)\n",
    "    pred_corr, pred_pval = stats.pearsonr(pred_areas, pred_matched)\n",
    "    total_corr, total_pval = stats.pearsonr(total_areas, total_matched)\n",
    "\n",
    "    # Print results in a formatted table\n",
    "    print(f\"{'Dataset':<10} {'Correlation':>12} {'P-value':>12}\")\n",
    "    print(\"-\" * 34)\n",
    "    print(f\"{'GT':<10} {gt_corr:>12.4f} {gt_pval:>12.4e}\")\n",
    "    print(f\"{'Pred':<10} {pred_corr:>12.4f} {pred_pval:>12.4e}\")\n",
    "    print(f\"{'Total':<10} {total_corr:>12.4f} {total_pval:>12.4e}\")"
   ]
  },
  {
   "cell_type": "code",
   "execution_count": 10,
   "metadata": {},
   "outputs": [],
   "source": [
    "def get_match_probability(groupset, a, b):\n",
    "    # Collect area shares and match status\n",
    "    area_shares = []\n",
    "    is_matched = []\n",
    "    for g in groupset:\n",
    "        for instance in g:\n",
    "            area_shares.append(instance['area_share'])\n",
    "            is_matched.append(instance['is_matched'])\n",
    "    \n",
    "    # Convert to numpy arrays\n",
    "    area_shares = np.array(area_shares)\n",
    "    is_matched = np.array(is_matched)\n",
    "    \n",
    "    # Find objects within the specified range\n",
    "    mask = (area_shares >= a) & (area_shares <= b)\n",
    "    \n",
    "    # Calculate probability if there are objects in the range\n",
    "    if np.sum(mask) > 0:\n",
    "        probability = np.mean(is_matched[mask])\n",
    "        return probability\n",
    "    else:\n",
    "        return None"
   ]
  },
  {
   "cell_type": "markdown",
   "metadata": {},
   "source": [
    "## Плотный тест"
   ]
  },
  {
   "cell_type": "code",
   "execution_count": 11,
   "metadata": {},
   "outputs": [],
   "source": [
    "import pickle\n",
    "with open('../../../groups/gt_noborder_aug_dense.pkl', 'rb') as f:\n",
    "    gt_groups = pickle.load(f)\n",
    "with open('../../../groups/pred_noborder_aug_dense.pkl', 'rb') as f:\n",
    "    pred_groups = pickle.load(f)"
   ]
  },
  {
   "cell_type": "code",
   "execution_count": 12,
   "metadata": {},
   "outputs": [
    {
     "name": "stdout",
     "output_type": "stream",
     "text": [
      "Median group size: 18\n"
     ]
    },
    {
     "data": {
      "image/png": "[encoded data removed]",
      "text/plain": [
       "<Figure size 640x480 with 1 Axes>"
      ]
     },
     "metadata": {},
     "output_type": "display_data"
    }
   ],
   "source": [
    "plt.hist([len(g) for g in gt_groups], bins=50)\n",
    "median_length = int(np.median([len(g) for g in gt_groups]))\n",
    "print(f\"Median group size: {median_length}\")"
   ]
  },
  {
   "cell_type": "code",
   "execution_count": 13,
   "metadata": {},
   "outputs": [
    {
     "data": {
      "image/png": "[encoded data removed]",
      "text/plain": [
       "<Figure size 1500x600 with 2 Axes>"
      ]
     },
     "metadata": {},
     "output_type": "display_data"
    }
   ],
   "source": [
    "# Create subplots\n",
    "plt.figure(figsize=(15, 6))\n",
    "plt.subplot(1, 2, 1)\n",
    "plot_match_probability(gt_groups, 'Ground Truth')\n",
    "plt.subplot(1, 2, 2)\n",
    "plot_match_probability(pred_groups, 'Predictions')\n",
    "plt.tight_layout()\n",
    "plt.show()"
   ]
  },
  {
   "cell_type": "code",
   "execution_count": 14,
   "metadata": {},
   "outputs": [
    {
     "data": {
      "image/png": "[encoded data removed]",
      "text/plain": [
       "<Figure size 1500x600 with 2 Axes>"
      ]
     },
     "metadata": {},
     "output_type": "display_data"
    }
   ],
   "source": [
    "plot_area_distribution(gt_groups, pred_groups, config)"
   ]
  },
  {
   "cell_type": "code",
   "execution_count": 15,
   "metadata": {},
   "outputs": [
    {
     "name": "stdout",
     "output_type": "stream",
     "text": [
      "Dataset     Correlation      P-value\n",
      "----------------------------------\n",
      "GT               0.3872   0.0000e+00\n",
      "Pred             0.1400   3.3008e-56\n",
      "Total            0.3349   0.0000e+00\n"
     ]
    }
   ],
   "source": [
    "calculate_pcorr(gt_groups, pred_groups)"
   ]
  },
  {
   "cell_type": "code",
   "execution_count": 16,
   "metadata": {},
   "outputs": [
    {
     "name": "stdout",
     "output_type": "stream",
     "text": [
      "GT match probability:   0.47062805202340086\n",
      "Pred match probability: 0.7728606550876358\n"
     ]
    }
   ],
   "source": [
    "print(\"GT match probability:  \", float(get_match_probability(gt_groups, 0.0, 1.0)))\n",
    "print(\"Pred match probability:\", float(get_match_probability(pred_groups, 0.0, 1.0)))"
   ]
  },
  {
   "cell_type": "markdown",
   "metadata": {},
   "source": [
    "#### Все объекты"
   ]
  },
  {
   "cell_type": "code",
   "execution_count": 17,
   "metadata": {},
   "outputs": [
    {
     "name": "stdout",
     "output_type": "stream",
     "text": [
      "Per-mask precision: 0.7728606550876358\n",
      "Per-obj precision: 0.7632398753894081\n"
     ]
    }
   ],
   "source": [
    "print(\"Per-mask precision:\", (bpm_p := np.array([float(m['is_matched']) for g in pred_groups for m in g]).mean()))\n",
    "print(\"Per-obj precision:\", (bpo_p := np.array([max(float(m['is_matched']) for m in g) for g in pred_groups]).mean()))"
   ]
  },
  {
   "cell_type": "code",
   "execution_count": 18,
   "metadata": {},
   "outputs": [
    {
     "name": "stdout",
     "output_type": "stream",
     "text": [
      "Per-mask recall: 0.47062805202340086\n",
      "Per-obj recall: 0.782433521353747\n"
     ]
    }
   ],
   "source": [
    "print(\"Per-mask recall:\", (bpm_r := np.array([float(m['is_matched']) for g in gt_groups for m in g]).mean()))\n",
    "print(\"Per-obj recall:\", (bpo_r := np.array([max(float(m['is_matched']) for m in g) for g in gt_groups]).mean()))"
   ]
  },
  {
   "cell_type": "code",
   "execution_count": 19,
   "metadata": {},
   "outputs": [
    {
     "name": "stdout",
     "output_type": "stream",
     "text": [
      "Per-mask F1: 0.5850152116531356\n",
      "Per-obj F1: 0.7727175282913457\n"
     ]
    }
   ],
   "source": [
    "print(\"Per-mask F1:\", bpm_p * bpm_r / (bpm_p + bpm_r) * 2)\n",
    "print(\"Per-obj F1:\", bpo_p * bpo_r / (bpo_p + bpo_r) * 2)"
   ]
  },
  {
   "cell_type": "markdown",
   "metadata": {},
   "source": [
    "#### Без краевых объектов"
   ]
  },
  {
   "cell_type": "code",
   "execution_count": 20,
   "metadata": {},
   "outputs": [
    {
     "name": "stdout",
     "output_type": "stream",
     "text": [
      "Per-mask precision: 0.7739865139328946\n",
      "Per-obj precision: 0.7636932707355243\n"
     ]
    }
   ],
   "source": [
    "print(\"Per-mask precision:\", (pm_p := np.array([float(m['is_matched']) for g in pred_groups for m in g if not m['is_border']]).mean()))\n",
    "print(\"Per-obj precision:\", (po_p := np.array([max(float(m['is_matched']) for m in g if not m['is_border']) for g in pred_groups if len([float(m['is_matched']) for m in g if not m['is_border']]) > 0]).mean()))"
   ]
  },
  {
   "cell_type": "code",
   "execution_count": 21,
   "metadata": {},
   "outputs": [
    {
     "name": "stdout",
     "output_type": "stream",
     "text": [
      "Per-mask recall: 0.6196342886785112\n",
      "Per-obj recall: 0.8196443691786621\n"
     ]
    }
   ],
   "source": [
    "print(\"Per-mask recall:\", (pm_r := np.array([float(m['is_matched']) for g in gt_groups for m in g if not m['is_border']]).mean()))\n",
    "print(\"Per-obj recall:\", (po_r := np.array([max([float(m['is_matched']) for m in g if not m['is_border']] + [0]) for g in gt_groups if len([float(m['is_matched']) for m in g if not m['is_border']]) > 0]).mean()))"
   ]
  },
  {
   "cell_type": "code",
   "execution_count": 22,
   "metadata": {},
   "outputs": [
    {
     "name": "stdout",
     "output_type": "stream",
     "text": [
      "Per-mask F1: 0.6882626638593557\n",
      "Per-obj F1: 0.7906802356722015\n"
     ]
    }
   ],
   "source": [
    "print(\"Per-mask F1:\", pm_p * pm_r / (pm_p + pm_r) * 2)\n",
    "print(\"Per-obj F1:\", po_p * po_r / (po_p + po_r) * 2)"
   ]
  },
  {
   "cell_type": "markdown",
   "metadata": {},
   "source": [
    "#### Доля ошибок классификации\n"
   ]
  },
  {
   "cell_type": "code",
   "execution_count": 23,
   "metadata": {},
   "outputs": [
    {
     "name": "stdout",
     "output_type": "stream",
     "text": [
      "GT per-mask ratio: 0.002009315919262033\n",
      "GT per-obj ratio: 0.007407407407407408\n"
     ]
    }
   ],
   "source": [
    "print(\"GT per-mask ratio:\", np.array([float(m['is_mask_matched']) for g in gt_groups for m in g if not m['is_matched']]).mean())\n",
    "print(\"GT per-obj ratio:\", np.array([max(float(m['is_mask_matched']) for m in g) for g in gt_groups if max(float(m['is_matched']) for m in g) == False]).mean())"
   ]
  },
  {
   "cell_type": "code",
   "execution_count": 24,
   "metadata": {},
   "outputs": [
    {
     "name": "stdout",
     "output_type": "stream",
     "text": [
      "Pred per-mask ratio: 0.00803072625698324\n",
      "Pred per-obj ratio: 0.003289473684210526\n"
     ]
    }
   ],
   "source": [
    "print(\"Pred per-mask ratio:\", np.array([float(m['is_mask_matched']) for g in pred_groups for m in g if not m['is_matched']]).mean())\n",
    "print(\"Pred per-obj ratio:\", np.array([max(float(m['is_mask_matched']) for m in g) for g in pred_groups if max(float(m['is_matched']) for m in g) == False]).mean())"
   ]
  },
  {
   "cell_type": "markdown",
   "metadata": {},
   "source": [
    "### Гипотеза о зависимости обрезанности и качества распознавания"
   ]
  },
  {
   "cell_type": "code",
   "execution_count": 25,
   "metadata": {},
   "outputs": [],
   "source": [
    "gt_is_matched = []\n",
    "gt_is_border = []\n",
    "pred_is_matched = []\n",
    "pred_is_border = []\n",
    "\n",
    "for group in gt_groups:\n",
    "    for obj in group:\n",
    "        gt_is_matched.append(obj['is_matched'])\n",
    "        gt_is_border.append(obj['is_border'])\n",
    "        \n",
    "for group in pred_groups:\n",
    "    for obj in group:\n",
    "        pred_is_matched.append(obj['is_matched'])\n",
    "        pred_is_border.append(obj['is_border'])\n",
    "\n",
    "is_matched = {\"Pred\": pred_is_matched, \"GT\": gt_is_matched, 'Total': pred_is_matched + gt_is_matched}\n",
    "is_border = {\"Pred\": pred_is_border, \"GT\": gt_is_border, 'Total': pred_is_border + gt_is_border}"
   ]
  },
  {
   "cell_type": "code",
   "execution_count": 26,
   "metadata": {},
   "outputs": [
    {
     "name": "stdout",
     "output_type": "stream",
     "text": [
      "| Sample | Spearman correlation | p-value               |\n",
      "|--------|----------------------|-----------------------|\n",
      "|     GT |            -0.511118 |                   0.0 |\n",
      "|   Pred |            -0.017212 |   0.05327157071025442 |\n",
      "|  Total |            -0.467060 |                   0.0 |\n"
     ]
    }
   ],
   "source": [
    "from scipy.stats import spearmanr\n",
    "\n",
    "print(\"| Sample | Spearman correlation | p-value               |\")\n",
    "print(\"|--------|----------------------|-----------------------|\")\n",
    "for sample in ['GT', 'Pred', 'Total']:\n",
    "    corr, p_value = spearmanr(is_border[sample], is_matched[sample])\n",
    "    print(f\"| {sample:>6} | {corr:>20.6f} | {p_value:>21} |\")"
   ]
  },
  {
   "cell_type": "markdown",
   "metadata": {},
   "source": [
    "### Количество объектов, предсказанных только по краевым объектам"
   ]
  },
  {
   "cell_type": "code",
   "execution_count": 27,
   "metadata": {},
   "outputs": [],
   "source": [
    "def get_border_only_matched(groups):\n",
    "    border_only_matched = []\n",
    "    border_only_matched_ids = []\n",
    "    for i, group in enumerate(groups):\n",
    "        border_matched = False\n",
    "        non_border_matched = False\n",
    "        non_border_found = False\n",
    "        for obj in group:\n",
    "            if obj['is_matched']:\n",
    "                if obj['is_border']:\n",
    "                    border_matched = True\n",
    "                else:\n",
    "                    non_border_matched = True\n",
    "            if not obj['is_border']:\n",
    "                non_border_found = True\n",
    "        if border_matched and not non_border_matched and non_border_found:\n",
    "            border_only_matched.append(group)\n",
    "            border_only_matched_ids.append(i)\n",
    "    return border_only_matched, border_only_matched_ids"
   ]
  },
  {
   "cell_type": "code",
   "execution_count": 28,
   "metadata": {},
   "outputs": [],
   "source": [
    "gt_border_only, gt_border_ids = get_border_only_matched(gt_groups)\n",
    "pred_border_only, pred_border_ids = get_border_only_matched(pred_groups)"
   ]
  },
  {
   "cell_type": "code",
   "execution_count": 29,
   "metadata": {},
   "outputs": [
    {
     "name": "stdout",
     "output_type": "stream",
     "text": [
      "GT: 2 elements out of 1241 (0.16%)\n",
      "Pred: 3 elements out of 1284 (0.23%)\n"
     ]
    }
   ],
   "source": [
    "print(\"GT:\", len(gt_border_only), \"elements\", \"out of\", len(gt_groups), f\"({len(gt_border_only) / len(gt_groups) * 100:.2f}%)\")\n",
    "print(\"Pred:\", len(pred_border_only), \"elements\", \"out of\", len(pred_groups), f\"({len(pred_border_only) / len(pred_groups) * 100:.2f}%)\")"
   ]
  }
 ],
 "metadata": {
  "kernelspec": {
   "display_name": "Delta",
   "language": "python",
   "name": "delta"
  },
  "language_info": {
   "codemirror_mode": {
    "name": "ipython",
    "version": 3
   },
   "file_extension": ".py",
   "mimetype": "text/x-python",
   "name": "python",
   "nbconvert_exporter": "python",
   "pygments_lexer": "ipython3",
   "version": "3.10.12"
  }
 },
 "nbformat": 4,
 "nbformat_minor": 2
}
